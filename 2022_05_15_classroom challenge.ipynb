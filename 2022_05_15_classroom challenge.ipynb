{
 "cells": [
  {
   "cell_type": "code",
   "execution_count": 1,
   "id": "1abb3309",
   "metadata": {},
   "outputs": [],
   "source": [
    "s=\"this is My First Python programming class and i am learNING python string and its function\"    "
   ]
  },
  {
   "cell_type": "markdown",
   "id": "3309f122",
   "metadata": {},
   "source": [
    "1)Try to extract data from index one to index 300 with a jump of 3"
   ]
  },
  {
   "cell_type": "markdown",
   "id": "cefb5db6",
   "metadata": {},
   "source": [
    "Ans-"
   ]
  },
  {
   "cell_type": "code",
   "execution_count": 3,
   "id": "06abdd13",
   "metadata": {},
   "outputs": [
    {
     "data": {
      "text/plain": [
       "'h   r tnrrmglsnimeNGyosi dtfco'"
      ]
     },
     "execution_count": 3,
     "metadata": {},
     "output_type": "execute_result"
    }
   ],
   "source": [
    "s[1:300:3]"
   ]
  },
  {
   "cell_type": "markdown",
   "id": "6edb6bf7",
   "metadata": {},
   "source": [
    "2)Try to reverse a string without using reverse function"
   ]
  },
  {
   "cell_type": "markdown",
   "id": "033dfc4a",
   "metadata": {},
   "source": [
    "Ans-"
   ]
  },
  {
   "cell_type": "code",
   "execution_count": 4,
   "id": "a29619fc",
   "metadata": {},
   "outputs": [
    {
     "data": {
      "text/plain": [
       "'noitcnuf sti dna gnirts nohtyp GNINrael ma i dna ssalc gnimmargorp nohtyP tsriF yM si siht'"
      ]
     },
     "execution_count": 4,
     "metadata": {},
     "output_type": "execute_result"
    }
   ],
   "source": [
    "s[-1::-1]"
   ]
  },
  {
   "cell_type": "markdown",
   "id": "578845e9",
   "metadata": {},
   "source": [
    "\n",
    "\n",
    "3)Try to split a string after conversion of entire string in uppercase"
   ]
  },
  {
   "cell_type": "markdown",
   "id": "4bbeb473",
   "metadata": {},
   "source": [
    "Ans-"
   ]
  },
  {
   "cell_type": "code",
   "execution_count": 5,
   "id": "4e67652b",
   "metadata": {},
   "outputs": [],
   "source": [
    "s=s.upper()"
   ]
  },
  {
   "cell_type": "code",
   "execution_count": 7,
   "id": "3c2989b5",
   "metadata": {},
   "outputs": [
    {
     "data": {
      "text/plain": [
       "'THIS IS MY FIRST PYTHON PROGRAMMING CLASS AND I AM LEARNING PYTHON STRING AND ITS FUNCTION'"
      ]
     },
     "execution_count": 7,
     "metadata": {},
     "output_type": "execute_result"
    }
   ],
   "source": [
    "s"
   ]
  },
  {
   "cell_type": "code",
   "execution_count": 9,
   "id": "67d4f18d",
   "metadata": {},
   "outputs": [
    {
     "data": {
      "text/plain": [
       "['THIS',\n",
       " 'IS',\n",
       " 'MY',\n",
       " 'FIRST',\n",
       " 'PYTHON',\n",
       " 'PROGRAMMING',\n",
       " 'CLASS',\n",
       " 'AND',\n",
       " 'I',\n",
       " 'AM',\n",
       " 'LEARNING',\n",
       " 'PYTHON',\n",
       " 'STRING',\n",
       " 'AND',\n",
       " 'ITS',\n",
       " 'FUNCTION']"
      ]
     },
     "execution_count": 9,
     "metadata": {},
     "output_type": "execute_result"
    }
   ],
   "source": [
    "s.split(' ')"
   ]
  },
  {
   "cell_type": "markdown",
   "id": "2eba9be8",
   "metadata": {},
   "source": [
    "\n",
    "\n",
    "4) Try to convert the whole string into lower case "
   ]
  },
  {
   "cell_type": "markdown",
   "id": "dafc70e4",
   "metadata": {},
   "source": [
    "Ans-"
   ]
  },
  {
   "cell_type": "code",
   "execution_count": 12,
   "id": "80d02d19",
   "metadata": {},
   "outputs": [],
   "source": [
    "s=s.lower()"
   ]
  },
  {
   "cell_type": "code",
   "execution_count": 13,
   "id": "f09f2a65",
   "metadata": {},
   "outputs": [
    {
     "data": {
      "text/plain": [
       "'this is my first python programming class and i am learning python string and its function'"
      ]
     },
     "execution_count": 13,
     "metadata": {},
     "output_type": "execute_result"
    }
   ],
   "source": [
    "s"
   ]
  },
  {
   "cell_type": "markdown",
   "id": "53b8219e",
   "metadata": {},
   "source": [
    "5)Try to capitalize the whole string "
   ]
  },
  {
   "cell_type": "markdown",
   "id": "ac256c9c",
   "metadata": {},
   "source": [
    "Ans-"
   ]
  },
  {
   "cell_type": "code",
   "execution_count": 14,
   "id": "2b1b2185",
   "metadata": {},
   "outputs": [],
   "source": [
    "s=s.capitalize()"
   ]
  },
  {
   "cell_type": "code",
   "execution_count": 15,
   "id": "cb24714d",
   "metadata": {},
   "outputs": [
    {
     "data": {
      "text/plain": [
       "'This is my first python programming class and i am learning python string and its function'"
      ]
     },
     "execution_count": 15,
     "metadata": {},
     "output_type": "execute_result"
    }
   ],
   "source": [
    "s"
   ]
  },
  {
   "cell_type": "markdown",
   "id": "39a42d58",
   "metadata": {},
   "source": [
    "6)Write a diference between isalnum() and isalpha()"
   ]
  },
  {
   "cell_type": "markdown",
   "id": "974eb380",
   "metadata": {},
   "source": [
    "Ans- isalnum() checks whether string contains alphabets and numbers\n",
    "     \n",
    "    isalpha() checks whether string contains alphabets."
   ]
  },
  {
   "cell_type": "markdown",
   "id": "570eaff9",
   "metadata": {},
   "source": [
    "7)Try to give an example of expand tab"
   ]
  },
  {
   "cell_type": "markdown",
   "id": "c649641b",
   "metadata": {},
   "source": [
    "Ans-"
   ]
  },
  {
   "cell_type": "code",
   "execution_count": 22,
   "id": "efced020",
   "metadata": {},
   "outputs": [],
   "source": [
    "n='My_name_is_Dipak'"
   ]
  },
  {
   "cell_type": "code",
   "execution_count": 26,
   "id": "917a1bb3",
   "metadata": {},
   "outputs": [
    {
     "data": {
      "text/plain": [
       "'My name is Dipak'"
      ]
     },
     "execution_count": 26,
     "metadata": {},
     "output_type": "execute_result"
    }
   ],
   "source": [
    "n.expandtabs()"
   ]
  },
  {
   "cell_type": "markdown",
   "id": "97ed9d36",
   "metadata": {},
   "source": [
    "8)Give an example of strip , lstrip and rstrip "
   ]
  },
  {
   "cell_type": "markdown",
   "id": "1848c5e8",
   "metadata": {},
   "source": [
    "Ans-"
   ]
  },
  {
   "cell_type": "code",
   "execution_count": 29,
   "id": "877ec840",
   "metadata": {},
   "outputs": [],
   "source": [
    "m='   Hello   World   '"
   ]
  },
  {
   "cell_type": "code",
   "execution_count": 30,
   "id": "a8fc3439",
   "metadata": {},
   "outputs": [
    {
     "data": {
      "text/plain": [
       "'Hello   World'"
      ]
     },
     "execution_count": 30,
     "metadata": {},
     "output_type": "execute_result"
    }
   ],
   "source": [
    "m.strip()       #strips both lh and rh side spaces"
   ]
  },
  {
   "cell_type": "code",
   "execution_count": 31,
   "id": "d92117b5",
   "metadata": {},
   "outputs": [
    {
     "data": {
      "text/plain": [
       "'Hello   World   '"
      ]
     },
     "execution_count": 31,
     "metadata": {},
     "output_type": "execute_result"
    }
   ],
   "source": [
    "m.lstrip() #strips left side blank spaces"
   ]
  },
  {
   "cell_type": "code",
   "execution_count": 32,
   "id": "a132776a",
   "metadata": {},
   "outputs": [
    {
     "data": {
      "text/plain": [
       "'   Hello   World'"
      ]
     },
     "execution_count": 32,
     "metadata": {},
     "output_type": "execute_result"
    }
   ],
   "source": [
    "m.rstrip()        #strips right side spaces"
   ]
  },
  {
   "cell_type": "markdown",
   "id": "9e3efa66",
   "metadata": {},
   "source": [
    "9)Replace a string charecter by another charector by taking your own example "
   ]
  },
  {
   "cell_type": "markdown",
   "id": "722c77ed",
   "metadata": {},
   "source": [
    "Ans-"
   ]
  },
  {
   "cell_type": "code",
   "execution_count": 1,
   "id": "a016d219",
   "metadata": {},
   "outputs": [],
   "source": [
    "name='My name is Dipak'"
   ]
  },
  {
   "cell_type": "code",
   "execution_count": 5,
   "id": "085a1d6a",
   "metadata": {},
   "outputs": [
    {
     "data": {
      "text/plain": [
       "'My name is Kapil'"
      ]
     },
     "execution_count": 5,
     "metadata": {},
     "output_type": "execute_result"
    }
   ],
   "source": [
    "name.replace('Dipak', 'Kapil')"
   ]
  },
  {
   "cell_type": "markdown",
   "id": "6575fbe3",
   "metadata": {},
   "source": [
    "10)Try  to give a defination of string center function with and exmple"
   ]
  },
  {
   "cell_type": "markdown",
   "id": "4b3eb4bc",
   "metadata": {},
   "source": [
    "Ans-"
   ]
  },
  {
   "cell_type": "markdown",
   "id": "e8382361",
   "metadata": {},
   "source": [
    "#string.center(length of string, front and back character)       string will come center of the whole string and character is filled at front and back of the string"
   ]
  },
  {
   "cell_type": "code",
   "execution_count": 7,
   "id": "302c5f8c",
   "metadata": {},
   "outputs": [],
   "source": [
    "n='dipak'"
   ]
  },
  {
   "cell_type": "code",
   "execution_count": 8,
   "id": "adeeb85b",
   "metadata": {},
   "outputs": [],
   "source": [
    "n=n.center(20,'#')"
   ]
  },
  {
   "cell_type": "code",
   "execution_count": 9,
   "id": "070ea84d",
   "metadata": {},
   "outputs": [
    {
     "data": {
      "text/plain": [
       "'#######dipak########'"
      ]
     },
     "execution_count": 9,
     "metadata": {},
     "output_type": "execute_result"
    }
   ],
   "source": [
    "n"
   ]
  },
  {
   "cell_type": "markdown",
   "id": "61ae1463",
   "metadata": {},
   "source": [
    "11)Write your own definition of compiler and interpretor without copy paste form internet in your own language"
   ]
  },
  {
   "cell_type": "markdown",
   "id": "1eef5a20",
   "metadata": {},
   "source": [
    "Ans-"
   ]
  },
  {
   "cell_type": "markdown",
   "id": "9b8a4df0",
   "metadata": {},
   "source": [
    "dont know answer"
   ]
  },
  {
   "cell_type": "markdown",
   "id": "e7dd1297",
   "metadata": {},
   "source": [
    "12)Python is a interpreted of compiled language give a clear ans with your understanding "
   ]
  },
  {
   "cell_type": "markdown",
   "id": "488b1e67",
   "metadata": {},
   "source": [
    "Ans-       Don't know answer"
   ]
  },
  {
   "cell_type": "markdown",
   "id": "9362aec7",
   "metadata": {},
   "source": [
    "13)Try to write a usecase of python with your understanding "
   ]
  },
  {
   "cell_type": "markdown",
   "id": "4643bb7d",
   "metadata": {},
   "source": [
    "Ans- "
   ]
  },
  {
   "cell_type": "markdown",
   "id": "eda34052",
   "metadata": {},
   "source": [
    "#Python is simple computer language."
   ]
  },
  {
   "cell_type": "markdown",
   "id": "40816d1c",
   "metadata": {},
   "source": [
    "#Python can used to automate repititive task."
   ]
  },
  {
   "cell_type": "markdown",
   "id": "1c77dd02",
   "metadata": {},
   "source": [
    "#Python is used to develop games"
   ]
  },
  {
   "cell_type": "markdown",
   "id": "1413c2c4",
   "metadata": {},
   "source": [
    "#python is used in data science to create AI ml model"
   ]
  },
  {
   "cell_type": "code",
   "execution_count": null,
   "id": "a4b0ca78",
   "metadata": {},
   "outputs": [],
   "source": []
  }
 ],
 "metadata": {
  "kernelspec": {
   "display_name": "Python 3 (ipykernel)",
   "language": "python",
   "name": "python3"
  },
  "language_info": {
   "codemirror_mode": {
    "name": "ipython",
    "version": 3
   },
   "file_extension": ".py",
   "mimetype": "text/x-python",
   "name": "python",
   "nbconvert_exporter": "python",
   "pygments_lexer": "ipython3",
   "version": "3.9.7"
  }
 },
 "nbformat": 4,
 "nbformat_minor": 5
}
